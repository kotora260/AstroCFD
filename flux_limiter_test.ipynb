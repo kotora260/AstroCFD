{
 "cells": [
  {
   "cell_type": "code",
   "execution_count": 13,
   "id": "798a046d-44be-4c97-b109-62b749c2a6d8",
   "metadata": {},
   "outputs": [],
   "source": [
    "import numpy as np\n",
    "import limiters as lim"
   ]
  },
  {
   "cell_type": "code",
   "execution_count": 14,
   "id": "70b34c2a-9046-497f-9c9a-6ae10aff2eb3",
   "metadata": {},
   "outputs": [],
   "source": [
    "nx = 100\n",
    "nghost = 2\n",
    "nxt = nx+2*nghost\n",
    "xl, xr = 0., 100.\n",
    "dx = (xr - xl) / nx\n",
    "nu = 0.8\n",
    "c = 1\n",
    "\n",
    "#'lax-wendroff', 'upwind'\n",
    "scheme = 'lax-wendroff'\n",
    "\n",
    "#'c-upwind', 'c-lax-wendroff'\n",
    "out_dir = 'lw-superbee'\n",
    "\n",
    "limiter = 'superbee'\n",
    "\n",
    "dt = nu * dx / c\n",
    "t = 0.\n",
    "t_end = 30\n",
    "nstep = 0\n",
    "n_output = 1"
   ]
  },
  {
   "cell_type": "code",
   "execution_count": 15,
   "id": "bb67bd6c-8843-4b9d-a5c9-d142ba57b186",
   "metadata": {},
   "outputs": [],
   "source": [
    "#Node points\n",
    "xn = np.linspace(xl-nghost*dx, xr+nghost*dx, nxt+1)\n",
    "\n",
    "#Cell-centered points\n",
    "xc = np.linspace(xl-0.5*nghost*dx, xr+0.5*nghost*dx, nxt)"
   ]
  },
  {
   "cell_type": "code",
   "execution_count": 16,
   "id": "46992e56-d802-49b1-9e6f-c9a0ad2e4976",
   "metadata": {},
   "outputs": [],
   "source": [
    "flim = getattr(lim, limiter) if limiter else None"
   ]
  },
  {
   "cell_type": "code",
   "execution_count": 17,
   "id": "bd38bcfc-b609-4027-b501-5d7f5184ca47",
   "metadata": {},
   "outputs": [],
   "source": [
    "#Initial conditions\n",
    "u = np.where(xc<50., 1., 0.)"
   ]
  },
  {
   "cell_type": "code",
   "execution_count": 18,
   "id": "3517e838-85b4-4c92-b300-1f6557cc9b36",
   "metadata": {},
   "outputs": [],
   "source": [
    "while t < t_end:\n",
    "    u[:nghost] = u[nghost]\n",
    "    u[-nghost:] = u[-nghost-1]\n",
    "    \n",
    "    u_left = u[nghost-1:-nghost]\n",
    "    u_right = u[nghost:-nghost+1]\n",
    "    fc_left = c * u_left\n",
    "    fc_right = c * u_right\n",
    "    \n",
    "    if scheme == 'lax-wendroff':\n",
    "        if flim:\n",
    "            u_inner = u[nghost-1:-nghost+1]\n",
    "            u_left = u[nghost-2:-nghost]\n",
    "            u_right = u[nghost:-nghost+2] if nghost > 2 else u[nghost:]\n",
    "            flim_n = flim(u_left, u_inner, u_right)\n",
    "            flim_l = flim_n[:-2]\n",
    "            flim_r = flim_n[1:-1]\n",
    "            \n",
    "        else:\n",
    "            flim_r = flim_l = 1.\n",
    "            \n",
    "        #low res flux\n",
    "        fn_low = fc_left\n",
    "        fn_low_right = fn_low[1:]\n",
    "        fn_low_left = fn_low[:-1]\n",
    "            \n",
    "        #high res flux\n",
    "        fn_high = 0.5 * (1. - nu) * (fc_right - fc_left)\n",
    "        fn_high_right = fn_high[1:] * flim_r\n",
    "        fn_high_left = fn_high[:-1] * flim_l\n",
    "            \n",
    "        #left and right fluxes are fn_low + fn_high\n",
    "        fn_right = fn_low_right + fn_high_right\n",
    "        fn_left = fn_low_left + fn_high_left\n",
    "            \n",
    "        \n",
    "    else:\n",
    "        print('Error: Unknown scheme. Exsiting.')\n",
    "        exit()\n",
    "        \n",
    "    u_inner = u[nghost:-nghost]\n",
    "    u_inner = u_inner - nu * (fn_right - fn_left)\n",
    "    \n",
    "    u = np.concatenate((nghost*[0], u_inner, nghost*[0]))\n",
    "\n",
    "    t = t + dt\n",
    "    nstep = nstep + 1\n",
    "    \n",
    "    if nstep % n_output == 0:\n",
    "        u_inner.tofile(f'{out_dir}/{scheme}-{int(nstep/n_output):0>4d}.dat')\n",
    "        "
   ]
  },
  {
   "cell_type": "code",
   "execution_count": 18,
   "id": "4e34bd2d-190a-45e2-8054-9cad63f30251",
   "metadata": {},
   "outputs": [],
   "source": []
  },
  {
   "cell_type": "code",
   "execution_count": 18,
   "id": "30c18f16-4708-4f0e-a932-b8c9ef7222f6",
   "metadata": {},
   "outputs": [],
   "source": []
  }
 ],
 "metadata": {
  "kernelspec": {
   "display_name": "Python 3",
   "language": "python",
   "name": "python3"
  },
  "language_info": {
   "codemirror_mode": {
    "name": "ipython",
    "version": 3
   },
   "file_extension": ".py",
   "mimetype": "text/x-python",
   "name": "python",
   "nbconvert_exporter": "python",
   "pygments_lexer": "ipython3",
   "version": "3.8.10"
  }
 },
 "nbformat": 4,
 "nbformat_minor": 5
}