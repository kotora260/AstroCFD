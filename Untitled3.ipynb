{
 "cells": [
  {
   "cell_type": "code",
   "execution_count": 104,
   "id": "798a046d-44be-4c97-b109-62b749c2a6d8",
   "metadata": {},
   "outputs": [],
   "source": [
    "import numpy as np\n",
    "import matplotlib.pyplot as plt"
   ]
  },
  {
   "cell_type": "code",
   "execution_count": 105,
   "id": "70b34c2a-9046-497f-9c9a-6ae10aff2eb3",
   "metadata": {},
   "outputs": [],
   "source": [
    "nx = 101\n",
    "nghost = 1\n",
    "nxt = nx+2*nghost\n",
    "xl, xr = 0., 100.\n",
    "dx = (xr - xl) / nx\n",
    "nu = 0.25\n",
    "c = 1\n",
    "dt = nu * dx / c\n",
    "t = 0.\n",
    "t_end = 10\n",
    "nstep = 0\n",
    "n_output = 2"
   ]
  },
  {
   "cell_type": "code",
   "execution_count": 106,
   "id": "bb67bd6c-8843-4b9d-a5c9-d142ba57b186",
   "metadata": {},
   "outputs": [],
   "source": [
    "x = np.linspace(xl-1, xr+1, nxt)"
   ]
  },
  {
   "cell_type": "code",
   "execution_count": 107,
   "id": "c0ec44eb-aa65-498d-a45f-836fbe383ab9",
   "metadata": {},
   "outputs": [
    {
     "data": {
      "text/plain": [
       "array([ -1.,   0.,   1.,   2.,   3.,   4.,   5.,   6.,   7.,   8.,   9.,\n",
       "        10.,  11.,  12.,  13.,  14.,  15.,  16.,  17.,  18.,  19.,  20.,\n",
       "        21.,  22.,  23.,  24.,  25.,  26.,  27.,  28.,  29.,  30.,  31.,\n",
       "        32.,  33.,  34.,  35.,  36.,  37.,  38.,  39.,  40.,  41.,  42.,\n",
       "        43.,  44.,  45.,  46.,  47.,  48.,  49.,  50.,  51.,  52.,  53.,\n",
       "        54.,  55.,  56.,  57.,  58.,  59.,  60.,  61.,  62.,  63.,  64.,\n",
       "        65.,  66.,  67.,  68.,  69.,  70.,  71.,  72.,  73.,  74.,  75.,\n",
       "        76.,  77.,  78.,  79.,  80.,  81.,  82.,  83.,  84.,  85.,  86.,\n",
       "        87.,  88.,  89.,  90.,  91.,  92.,  93.,  94.,  95.,  96.,  97.,\n",
       "        98.,  99., 100., 101.])"
      ]
     },
     "execution_count": 107,
     "metadata": {},
     "output_type": "execute_result"
    }
   ],
   "source": [
    "x"
   ]
  },
  {
   "cell_type": "code",
   "execution_count": 108,
   "id": "bd38bcfc-b609-4027-b501-5d7f5184ca47",
   "metadata": {},
   "outputs": [],
   "source": [
    "u = np.where(x<50., 1., 0.)"
   ]
  },
  {
   "cell_type": "code",
   "execution_count": 109,
   "id": "11ef9f67-5a26-4595-9d45-cbd4f07cb1d8",
   "metadata": {},
   "outputs": [
    {
     "data": {
      "text/plain": [
       "array([1., 1., 1., 1., 1., 1., 1., 1., 1., 1., 1., 1., 1., 1., 1., 1., 1.,\n",
       "       1., 1., 1., 1., 1., 1., 1., 1., 1., 1., 1., 1., 1., 1., 1., 1., 1.,\n",
       "       1., 1., 1., 1., 1., 1., 1., 1., 1., 1., 1., 1., 1., 1., 1., 1., 1.,\n",
       "       0., 0., 0., 0., 0., 0., 0., 0., 0., 0., 0., 0., 0., 0., 0., 0., 0.,\n",
       "       0., 0., 0., 0., 0., 0., 0., 0., 0., 0., 0., 0., 0., 0., 0., 0., 0.,\n",
       "       0., 0., 0., 0., 0., 0., 0., 0., 0., 0., 0., 0., 0., 0., 0., 0., 0.,\n",
       "       0.])"
      ]
     },
     "execution_count": 109,
     "metadata": {},
     "output_type": "execute_result"
    }
   ],
   "source": [
    "u"
   ]
  },
  {
   "cell_type": "code",
   "execution_count": 110,
   "id": "3517e838-85b4-4c92-b300-1f6557cc9b36",
   "metadata": {},
   "outputs": [],
   "source": [
    "while t < t_end:\n",
    "    u[0] = u[-1]\n",
    "    u[nxt-1] = u[nxt-2]\n",
    "    \n",
    "    u_right = u[nghost+1:]\n",
    "    u_left = u[:-nghost-1]\n",
    "    u_inner = u[nghost:-nghost]\n",
    "\n",
    "    u_new_inner = u_inner - 0.5 * nu * (u_right - u_left)\n",
    "\n",
    "    u_inner = u_new_inner.copy()\n",
    "    u = np.concatenate(([0], u_inner, [0]))\n",
    "\n",
    "    t = t + dt\n",
    "    nstep = nstep + 1\n",
    "    \n",
    "    if nstep % n_output == 0:\n",
    "        u_inner.tofile(f'ftcs-{int(nstep/n_output):0>4d}.dat')\n",
    "        "
   ]
  },
  {
   "cell_type": "code",
   "execution_count": null,
   "id": "4e34bd2d-190a-45e2-8054-9cad63f30251",
   "metadata": {},
   "outputs": [],
   "source": []
  },
  {
   "cell_type": "code",
   "execution_count": null,
   "id": "433004ff-95ce-4fde-b95e-0b012d9f9ad4",
   "metadata": {},
   "outputs": [],
   "source": []
  }
 ],
 "metadata": {
  "kernelspec": {
   "display_name": "Python 3",
   "language": "python",
   "name": "python3"
  },
  "language_info": {
   "codemirror_mode": {
    "name": "ipython",
    "version": 3
   },
   "file_extension": ".py",
   "mimetype": "text/x-python",
   "name": "python",
   "nbconvert_exporter": "python",
   "pygments_lexer": "ipython3",
   "version": "3.8.10"
  }
 },
 "nbformat": 4,
 "nbformat_minor": 5
}
