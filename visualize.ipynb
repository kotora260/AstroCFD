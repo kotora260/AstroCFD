{
 "cells": [
  {
   "cell_type": "code",
   "execution_count": 1,
   "id": "383a74ba-34fc-4fa0-acbe-ca190b56796e",
   "metadata": {},
   "outputs": [],
   "source": [
    "import numpy as np\n",
    "import matplotlib.pyplot as plt"
   ]
  },
  {
   "cell_type": "code",
   "execution_count": 2,
   "id": "acc501ba-df7c-4c36-9b22-0835b6e15862",
   "metadata": {},
   "outputs": [],
   "source": [
    "# Grid\n",
    "nx = 101\n",
    "xl, xr = 0., 100.\n",
    "dx = (xr - xl) / nx\n",
    "\n",
    "# Scheme\n",
    "# 'ftcs', 'lax-friedrich', 'lax-wendroff', 'upwind'\n",
    "scheme = 'upwind'\n",
    "\n",
    "# Output dir\n",
    "# 'ftcs', 'lax-friedrich', 'lax-wendroff', 'upwind'\n",
    "out_dir = 'upwind'\n",
    "\n",
    "# I/O\n",
    "times = range(1, 21, 4)\n",
    "\n",
    "# Output mode: 'individual', 'superimpose'\n",
    "out_mode = 'superimpose'"
   ]
  },
  {
   "cell_type": "code",
   "execution_count": 3,
   "id": "71e8f0cf-2f03-4a6f-bba8-9e7f8837b582",
   "metadata": {},
   "outputs": [],
   "source": [
    "# Grid\n",
    "x = np.linspace(xl, xr, nx)"
   ]
  },
  {
   "cell_type": "code",
   "execution_count": 4,
   "id": "9b3cc51d-1334-4e6d-b7b2-5ebe23b15e09",
   "metadata": {},
   "outputs": [
    {
     "data": {
      "image/png": "[encoded data removed]",
      "text/plain": [
       "<Figure size 432x288 with 1 Axes>"
      ]
     },
     "metadata": {
      "needs_background": "light"
     },
     "output_type": "display_data"
    },
    {
     "data": {
      "text/plain": [
       "<Figure size 432x288 with 0 Axes>"
      ]
     },
     "metadata": {},
     "output_type": "display_data"
    }
   ],
   "source": [
    "# Prepare combined figurefigure\n",
    "if out_mode == 'superimpose':\n",
    "    fig = plt.figure()\n",
    "\n",
    "# Plot output files\n",
    "for time in times:\n",
    "    \n",
    "    # Create individual figs\n",
    "    if out_mode == 'indivual':\n",
    "        fig = plt.figure()\n",
    "    \n",
    "    # Filename\n",
    "    fname = f'{out_dir}/{scheme}-{int(time):0>4d}'\n",
    "    \n",
    "    # Get data\n",
    "    data = np.fromfile(fname + '.dat')\n",
    "    \n",
    "    # Plot\n",
    "    plt.plot(x, data)\n",
    "    \n",
    "    # Save and close individual figs\n",
    "    if out_mode == 'individual':\n",
    "        plt.savefig(fname + 'png')\n",
    "        plt.savefig(fname + 'pdf')\n",
    "        plt.close(fig)\n",
    "        \n",
    "    \n",
    "# Save and close combined figure \n",
    "if out_mode == 'superimpose':\n",
    "    fig = plt.figure()"
   ]
  },
  {
   "cell_type": "code",
   "execution_count": null,
   "id": "11df366c-31ba-4b08-bedc-acb1af448b2e",
   "metadata": {},
   "outputs": [],
   "source": []
  }
 ],
 "metadata": {
  "kernelspec": {
   "display_name": "Python 3",
   "language": "python",
   "name": "python3"
  },
  "language_info": {
   "codemirror_mode": {
    "name": "ipython",
    "version": 3
   },
   "file_extension": ".py",
   "mimetype": "text/x-python",
   "name": "python",
   "nbconvert_exporter": "python",
   "pygments_lexer": "ipython3",
   "version": "3.8.8"
  }
 },
 "nbformat": 4,
 "nbformat_minor": 5
}
