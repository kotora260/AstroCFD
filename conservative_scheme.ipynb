{
 "cells": [
  {
   "cell_type": "code",
   "execution_count": 1,
   "id": "798a046d-44be-4c97-b109-62b749c2a6d8",
   "metadata": {},
   "outputs": [],
   "source": [
    "import numpy as np\n",
    "import matplotlib.pyplot as plt"
   ]
  },
  {
   "cell_type": "code",
   "execution_count": 2,
   "id": "70b34c2a-9046-497f-9c9a-6ae10aff2eb3",
   "metadata": {},
   "outputs": [],
   "source": [
    "nx = 200\n",
    "nghost = 1\n",
    "nxt = nx+2*nghost\n",
    "xl, xr = 0., 200.\n",
    "dx = (xr - xl) / nx\n",
    "nu = 0.8\n",
    "c = 1\n",
    "epsiron = 0.1\n",
    "L = 50\n",
    "\n",
    "#'lax-wendroff', 'upwind'\n",
    "scheme = 'upwind'\n",
    "\n",
    "#'c-upwind'\n",
    "out_dir = 'c-upwind'\n",
    "\n",
    "dt = nu * dx / c\n",
    "t = 0.\n",
    "t_end = 200\n",
    "nstep = 0\n",
    "n_output = 20"
   ]
  },
  {
   "cell_type": "code",
   "execution_count": 3,
   "id": "bb67bd6c-8843-4b9d-a5c9-d142ba57b186",
   "metadata": {},
   "outputs": [],
   "source": [
    "#Node points\n",
    "xn = np.linspace(xl-nghost*dx, xr+nghost*dx, nxt+1)\n",
    "\n",
    "#Cell-centered points\n",
    "xc = np.linspace(xl-0.5*nghost*dx, xr+0.5*nghost*dx, nxt)"
   ]
  },
  {
   "cell_type": "code",
   "execution_count": 4,
   "id": "bd38bcfc-b609-4027-b501-5d7f5184ca47",
   "metadata": {},
   "outputs": [],
   "source": [
    "#Initial conditions\n",
    "k = 2 * np.pi / L\n",
    "u = 1 + np.where(xc > L, 0, epsiron * np.sin(k * xc))"
   ]
  },
  {
   "cell_type": "code",
   "execution_count": 5,
   "id": "3517e838-85b4-4c92-b300-1f6557cc9b36",
   "metadata": {},
   "outputs": [],
   "source": [
    "while t < t_end:\n",
    "    u[0] = u[1]\n",
    "    u[nxt-1] = u[nxt-2]\n",
    "    \n",
    "    u_right = u[nghost:]\n",
    "    u_left = u[:-nghost]\n",
    "    u_inner = u[nghost:-nghost]\n",
    "    \n",
    "    fc_left = u_left * u_left / 2\n",
    "    fc_right = u_right * u_right / 2\n",
    "    \n",
    "    if scheme == 'upwind':\n",
    "        fn = np.where(u_right + u_left > 0, fc_left, fc_right)\n",
    "        fn_right = fn[1:]\n",
    "        fn_left = fn[:-1]\n",
    "    \n",
    "    elif scheme == 'lax-wendroff':\n",
    "        pass\n",
    "        \n",
    "    else:\n",
    "        print('Error: Unknown scheme. Exsiting.')\n",
    "        exit()\n",
    "        \n",
    "    u_new_inner  = u_inner - nu * (fn_right - fn_left)\n",
    "\n",
    "    u_inner = u_new_inner.copy()\n",
    "    u = np.concatenate(([0], u_inner, [0]))\n",
    "\n",
    "    t = t + dt\n",
    "    nstep = nstep + 1\n",
    "    \n",
    "    if nstep % n_output == 0:\n",
    "        u_inner.tofile(f'{out_dir}/{scheme}-{int(nstep/n_output):0>4d}.dat')\n",
    "        "
   ]
  },
  {
   "cell_type": "code",
   "execution_count": null,
   "id": "4e34bd2d-190a-45e2-8054-9cad63f30251",
   "metadata": {},
   "outputs": [],
   "source": []
  },
  {
   "cell_type": "code",
   "execution_count": null,
   "id": "30c18f16-4708-4f0e-a932-b8c9ef7222f6",
   "metadata": {},
   "outputs": [],
   "source": []
  }
 ],
 "metadata": {
  "kernelspec": {
   "display_name": "Python 3",
   "language": "python",
   "name": "python3"
  },
  "language_info": {
   "codemirror_mode": {
    "name": "ipython",
    "version": 3
   },
   "file_extension": ".py",
   "mimetype": "text/x-python",
   "name": "python",
   "nbconvert_exporter": "python",
   "pygments_lexer": "ipython3",
   "version": "3.8.10"
  }
 },
 "nbformat": 4,
 "nbformat_minor": 5
}
